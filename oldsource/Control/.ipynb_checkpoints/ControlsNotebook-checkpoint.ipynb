{
 "cells": [
  {
   "cell_type": "code",
   "execution_count": 33,
   "metadata": {},
   "outputs": [
    {
     "name": "stdout",
     "output_type": "stream",
     "text": [
      "N:600\n",
      "0.982793723247329\n"
     ]
    }
   ],
   "source": [
    "    using PyCall\n",
    "    np = pyimport(\"numpy\")\n",
    "\n",
    "    r = 20.0\n",
    "    l = 12.0\n",
    "    dt  = 0.01\n",
    "    Tend = 6.0\n",
    "    N = Int64(Tend/dt)\n",
    "    println(\"N:\", N)\n",
    "\n",
    "\n",
    "    xend = 40\n",
    "    yend = 60\n",
    "    v = 1.0\n",
    "    k1 = 2.0\n",
    "    k2 = 0.2\n",
    "\n",
    "    x = np.zeros(N)\n",
    "    y = np.zeros(N)\n",
    "    th = np.zeros(N)\n",
    "\n",
    "    i = 1\n",
    "    while(i<N)\n",
    "        th_err = atan(yend - y[i], xend - x[i]) - th[i]\n",
    "        println(th_err)\n",
    "        d1 = abs(x[i] - xend)\n",
    "        d2 = abs(y[i] - yend)\n",
    "        w = v\n",
    "        d = sqrt(d1*d1+d2*d2)\n",
    "        if (d<0.5)\n",
    "            break\n",
    "        end\n",
    "        if (d > 100):  break\n",
    "        end\n",
    "        w1 = w + k1*th_err\n",
    "        w2 = w - k1*th_err\n",
    "        if (d<5)\n",
    "            w1, w2 = k2*d*(w + k1*th_err), k2*d*(w - k1*th_err)\n",
    "        dx = (r*dt/2.0)*(w1+w2)*cos(th[i])\n",
    "        dy = (r*dt/2.0)*(w1+w2)*sin(th[i])\n",
    "        dth = (r*dt/(2.0*l))*(w1-w2)\n",
    "        x[i+1] = x[i] + dx\n",
    "        y[i+1] = y[i] + dy\n",
    "        th[i+1] = th[i] + dth\n",
    "        i = i+1\n",
    "        print(\"i:\", i)\n",
    "        end\n",
    "    #println(\"dx:\",dx)\n",
    "    end\n"
   ]
  },
  {
   "cell_type": "code",
   "execution_count": 26,
   "metadata": {},
   "outputs": [
    {
     "name": "stdout",
     "output_type": "stream",
     "text": [
      "-0.7384528151360407"
     ]
    }
   ],
   "source": [
    "using PyCall\n",
    "math = pyimport(\"math\")\n",
    "\n",
    "function angle(u1, u2, v1, v2)\n",
    "       n1 = math.sqrt(u1*u1+u2*u2)\n",
    "       n2 = math.sqrt(v1*v1+v2*v2)\n",
    "       dot = u1*v1+u2*v2\n",
    "       cross = u1*v2 - v1*u2\n",
    "       if cross == 0.0\n",
    "        return 0.0\n",
    "       end\n",
    "       if cross > 0\n",
    "        sign = 1\n",
    "        end\n",
    "       if cross < 0\n",
    "        sign =-1\n",
    "       end\n",
    "       theta = sign*math.acos(dot/(n1*n2))\n",
    "       return theta\n",
    "end\n",
    "            \n",
    "u1 = 0.8\n",
    "u2 = 0.5\n",
    "v1 = 1.1\n",
    "v2 = -0.2\n",
    "theta = angle(u1, u2, v1, v2)\n",
    "print(theta)"
   ]
  }
 ],
 "metadata": {
  "kernelspec": {
   "display_name": "Julia 1.4.2",
   "language": "julia",
   "name": "julia-1.4"
  },
  "language_info": {
   "file_extension": ".jl",
   "mimetype": "application/julia",
   "name": "julia",
   "version": "1.4.2"
  }
 },
 "nbformat": 4,
 "nbformat_minor": 4
}
