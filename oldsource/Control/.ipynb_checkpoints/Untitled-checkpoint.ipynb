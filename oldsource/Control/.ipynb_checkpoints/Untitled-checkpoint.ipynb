{
 "cells": [
  {
   "cell_type": "code",
   "execution_count": 4,
   "metadata": {},
   "outputs": [
    {
     "name": "stdout",
     "output_type": "stream",
     "text": [
      "N: 600\n"
     ]
    }
   ],
   "source": [
    "    from math import *\n",
    "    import numpy as np\n",
    "    r = 20.0\n",
    "    l = 12.0\n",
    "    dt  = 0.01\n",
    "    Tend = 6.0\n",
    "    N = int(Tend/dt)\n",
    "    print(\"N:\", N)\n",
    "\n",
    "    xend = 40\n",
    "    yend = 60\n",
    "    v = 1.0\n",
    "    k1 = 2.0\n",
    "    k2 = 0.2\n",
    "\n",
    "    x = np.zeros(N)\n",
    "    y = np.zeros(N)\n",
    "    th = np.zeros(N)\n",
    "\n",
    "    i= 0\n",
    "    while(i<N-1):\n",
    "        th_err = atan2(yend - y[i], xend - x[i]) - th[i]\n",
    "        #print(th_err)\n",
    "        d1 = abs(x[i] - xend)\n",
    "        d2 = abs(y[i] - yend)\n",
    "        w = v\n",
    "        d = sqrt(d1*d1+d2*d2)\n",
    "        if (d<0.5):\n",
    "            break\n",
    "        if (d > 100):  break\n",
    "        w1 = w + k1*th_err\n",
    "        w2 = w - k1*th_err\n",
    "        if (d<5):\n",
    "            w1, w2 = k2*d*(w + k1*th_err), k2*d*(w - k1*th_err)\n",
    "        dx = (r*dt/2.0)*(w1+w2)*cos(th[i])\n",
    "        dy = (r*dt/2.0)*(w1+w2)*sin(th[i])\n",
    "        dth = (r*dt/(2.0*l))*(w1-w2)\n",
    "        x[i+1] = x[i] + dx\n",
    "        y[i+1] = y[i] + dy\n",
    "        th[i+1] = th[i] + dth\n",
    "        i = i+1\n",
    "        #print(\"i:\", i)\n",
    "#     print (dx)\n"
   ]
  },
  {
   "cell_type": "code",
   "execution_count": 8,
   "metadata": {},
   "outputs": [
    {
     "name": "stdout",
     "output_type": "stream",
     "text": [
      "-0.7384528151360407\n"
     ]
    }
   ],
   "source": [
    "import math\n",
    "def angle(u1, u2, v1, v2):\n",
    "       n1 = math.sqrt(u1*u1+u2*u2)\n",
    "       n2 = math.sqrt(v1*v1+v2*v2)\n",
    "       dot = u1*v1+u2*v2\n",
    "       cross = u1*v2 - v1*u2\n",
    "       if cross == 0.0:  return 0.0\n",
    "       if cross > 0:  sign = 1\n",
    "       if cross < 0:  sign =-1\n",
    "       theta = sign*math.acos(dot/(n1*n2))\n",
    "       return theta\n",
    "u1 = 0.8\n",
    "u2 = 0.5\n",
    "v1 = 1.1\n",
    "v2 = -0.2\n",
    "theta = angle(u1, u2, v1, v2)\n",
    "print(theta)"
   ]
  },
  {
   "cell_type": "code",
   "execution_count": null,
   "metadata": {},
   "outputs": [],
   "source": []
  }
 ],
 "metadata": {
  "kernelspec": {
   "display_name": "Python 3",
   "language": "python",
   "name": "python3"
  },
  "language_info": {
   "codemirror_mode": {
    "name": "ipython",
    "version": 3
   },
   "file_extension": ".py",
   "mimetype": "text/x-python",
   "name": "python",
   "nbconvert_exporter": "python",
   "pygments_lexer": "ipython3",
   "version": "3.7.6"
  }
 },
 "nbformat": 4,
 "nbformat_minor": 4
}
